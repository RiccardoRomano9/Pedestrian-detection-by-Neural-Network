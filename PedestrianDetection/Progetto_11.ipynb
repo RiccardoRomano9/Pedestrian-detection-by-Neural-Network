{
  "nbformat": 4,
  "nbformat_minor": 0,
  "metadata": {
    "colab": {
      "name": "Progetto 11",
      "provenance": [],
      "collapsed_sections": []
    },
    "kernelspec": {
      "display_name": "Python 3",
      "name": "python3"
    },
    "language_info": {
      "name": "python"
    },
    "accelerator": "GPU"
  },
  "cells": [
    {
      "cell_type": "code",
      "metadata": {
        "id": "h2usJCe_DMsM"
      },
      "source": [
        "%reset -f\n",
        "import numpy as np\n",
        "import skimage.io as io\n",
        "import matplotlib.pyplot as plt\n",
        "import keras\n",
        "import os\n",
        "import csv\n",
        "import os.path\n"
      ],
      "execution_count": null,
      "outputs": []
    },
    {
      "cell_type": "markdown",
      "metadata": {
        "id": "5Nml-_CTls-p"
      },
      "source": [
        "1. Importazione di keras-retinanet dalla repository di GitHub attraverso il comando **git clone**"
      ]
    },
    {
      "cell_type": "code",
      "metadata": {
        "id": "2NhmKYodMEJQ"
      },
      "source": [
        "!git clone https://github.com/fizyr/keras-retinanet.git"
      ],
      "execution_count": null,
      "outputs": []
    },
    {
      "cell_type": "markdown",
      "metadata": {
        "id": "EZWKsFjlmdZf"
      },
      "source": [
        "2. Installazione di keras-retinanet"
      ]
    },
    {
      "cell_type": "code",
      "metadata": {
        "id": "du0L4_OsNHQc"
      },
      "source": [
        "%cd keras-retinanet/\n",
        "\n",
        "!pip install ."
      ],
      "execution_count": null,
      "outputs": []
    },
    {
      "cell_type": "markdown",
      "metadata": {
        "id": "V0_IcYCDJ7Ye"
      },
      "source": [
        "Per utilizzare la rete di backbone EfficientNetB2 conviene utilizzare una versione precedente di keras e tensorflow"
      ]
    },
    {
      "cell_type": "code",
      "metadata": {
        "id": "5weymA7Ft2A7"
      },
      "source": [
        "!pip install keras==2.4 --user\n",
        "!pip install tensorflow==2.3.0 --user"
      ],
      "execution_count": null,
      "outputs": []
    },
    {
      "cell_type": "code",
      "metadata": {
        "id": "A1YyXjtGNtwz"
      },
      "source": [
        "!python setup.py build_ext --inplace"
      ],
      "execution_count": null,
      "outputs": []
    },
    {
      "cell_type": "markdown",
      "metadata": {
        "id": "5biqsXc4JnLw"
      },
      "source": [
        "**PREPARAZIONE DEI DATI**"
      ]
    },
    {
      "cell_type": "markdown",
      "metadata": {
        "id": "WWvllHgsm8TW"
      },
      "source": [
        "3. Download del dataset WiderPerson in formato .zip, utilizzando il comando **wget** ed estrazione tramite **unzip**"
      ]
    },
    {
      "cell_type": "code",
      "metadata": {
        "id": "V-tOb2X_uVvr"
      },
      "source": [
        "!wget --user=corso --password=p2021corso http://www.grip.unina.it/download/corso/WiderPerson.zip"
      ],
      "execution_count": null,
      "outputs": []
    },
    {
      "cell_type": "code",
      "metadata": {
        "id": "T7NkFvApvYk_"
      },
      "source": [
        "!unzip WiderPerson.zip"
      ],
      "execution_count": null,
      "outputs": []
    },
    {
      "cell_type": "markdown",
      "metadata": {
        "id": "y3qX6fEanstf"
      },
      "source": [
        "4. Creazione dei 3 file .csv(*test_set.csv, training_set.csv, validation_set.csv*)"
      ]
    },
    {
      "cell_type": "code",
      "metadata": {
        "id": "xxrZNRggunfv"
      },
      "source": [
        "\n",
        "count=0\n",
        "for cartella, sottocartella, files in os.walk('WiderPerson/Images/'):\n",
        "    for file in files:\n",
        "      nome=os.path.basename(file)\n",
        "      \n",
        "      path='WiderPerson/Annotations/'+nome+'.txt'\n",
        "      if(os.path.exists(path)):\n",
        "        count=count+1\n",
        "        with open(path) as input_file:\n",
        "            num=input_file.readline()\n",
        "            lines =input_file.readlines()\n",
        "            for line in lines:\n",
        "               newLine =line.strip().split()\n",
        "               newLine.append('WiderPerson/Images/'+nome)\n",
        "               tmp=newLine[0]\n",
        "               newLine[0]=newLine[5]\n",
        "               newLine[5]=tmp\n",
        "               if(newLine[5]=='1'):\n",
        "                 newLine[5]='pedestrians'\n",
        "               \n",
        "\n",
        "               if(count<=1000):\n",
        "                 if(newLine[5]=='pedestrians'):\n",
        "                   with open('test_set.csv', 'a', newline='') as test_file:                    \n",
        "                     file_writer = csv.writer(test_file)\n",
        "                     file_writer.writerow(newLine)\n",
        "               elif(count<=7000):\n",
        "                 if(newLine[5]=='pedestrians'):\n",
        "                   with open('training_set.csv', 'a', newline='') as training_file:                    \n",
        "                     file_writer = csv.writer(training_file)\n",
        "                     file_writer.writerow(newLine)\n",
        "               else:\n",
        "                 if(newLine[5]=='pedestrians'):\n",
        "                   with open('validation_set.csv', 'a', newline='') as validation_file:                    \n",
        "                     file_writer = csv.writer(validation_file)\n",
        "                     file_writer.writerow(newLine)"
      ],
      "execution_count": null,
      "outputs": []
    },
    {
      "cell_type": "markdown",
      "metadata": {
        "id": "2H1r_qbqoQvq"
      },
      "source": [
        "5. Creazione file di mapping, contenente nome ed id delle classi da individuare(*mapping.csv*)"
      ]
    },
    {
      "cell_type": "code",
      "metadata": {
        "id": "wt_nCdBpKqdk"
      },
      "source": [
        " with open('mapping.csv', 'w', newline='') as map_file:                    \n",
        "        file_writer = csv.writer(map_file)\n",
        "        file_writer.writerow(['pedestrians','0'])\n",
        "       \n"
      ],
      "execution_count": null,
      "outputs": []
    },
    {
      "cell_type": "markdown",
      "metadata": {
        "id": "A6_VVcAconos"
      },
      "source": [
        "**FASE DI TRAINING**"
      ]
    },
    {
      "cell_type": "code",
      "metadata": {
        "id": "-5Gm898umzwl"
      },
      "source": [
        "!pip install efficientnet"
      ],
      "execution_count": null,
      "outputs": []
    },
    {
      "cell_type": "markdown",
      "metadata": {
        "id": "_Xr23u_9ov00"
      },
      "source": [
        "6. Avvio dell' addestramento della rete utilizzando lo script *train.py* con annessi parametri"
      ]
    },
    {
      "cell_type": "code",
      "metadata": {
        "id": "csPZ7HGBlw1e"
      },
      "source": [
        "import keras_retinanet\n",
        "!python /content/keras-retinanet/keras_retinanet/bin/train.py --backbone EfficientNetB2 --freeze-backbone --steps 200 --batch-size 4 --epochs 30 --lr 1e-4 csv training_set.csv mapping.csv\n"
      ],
      "execution_count": null,
      "outputs": []
    },
    {
      "cell_type": "markdown",
      "metadata": {
        "id": "a4q-VDS8pJxJ"
      },
      "source": [
        "**FASE DI TESTING**"
      ]
    },
    {
      "cell_type": "markdown",
      "metadata": {
        "id": "DLYQ2zMJpczh"
      },
      "source": [
        "7. Avvio del testing sul file *test_set.csv* con l' utilizzo dello script *evaluate.py*(per convertire il modello in un inference model si utilizza il comando **--convert-model**)"
      ]
    },
    {
      "cell_type": "code",
      "metadata": {
        "id": "Zg_j_RtlusiD"
      },
      "source": [
        "!python keras_retinanet/bin/evaluate.py --backbone EfficientNetB2 csv test_set.csv mapping.csv ./snapshots/EfficientNetB2_csv_30.h5 --convert-model"
      ],
      "execution_count": null,
      "outputs": []
    },
    {
      "cell_type": "markdown",
      "metadata": {
        "id": "j1l3v73VqIIf"
      },
      "source": [
        "8. Test finale per visualizzare i risultati su immagini reali"
      ]
    },
    {
      "cell_type": "code",
      "metadata": {
        "id": "NV2Cr88NTENR"
      },
      "source": [
        "from keras_retinanet import models\n",
        "from keras_retinanet.utils.image import read_image_bgr, preprocess_image, resize_image\n",
        "from keras_retinanet.utils.visualization import draw_box, draw_caption\n",
        "from keras_retinanet.utils.colors import label_color\n",
        "from keras_retinanet.utils.gpu import setup_gpu\n",
        "import cv2\n",
        "import time\n",
        "\n",
        "from efficientnet.tfkeras import EfficientNetB2\n",
        "\n",
        "\n",
        "model_path = os.path.join('', 'snapshots', 'EfficientNetB2_csv_30.h5')\n",
        "\n",
        "backbone = models.backbone('EfficientNetB2')\n",
        "# load retinanet model\n",
        "model =models.load_model(model_path, backbone_name='EfficientNetB2')\n",
        "model = models.convert_model(model)\n",
        "\n",
        "labels_to_names = {0: 'Pedestrian'}\n",
        "# load image\n",
        "image = read_image_bgr('WiderPerson/Images/004167.jpg')\n",
        "#WiderPerson/Images/014562.jpg,61,123,151,343,pedestrians\n",
        "# copy to draw on\n",
        "draw = image.copy()\n",
        "draw = cv2.cvtColor(draw, cv2.COLOR_BGR2RGB)\n",
        "\n",
        "# preprocess image for network\n",
        "image = preprocess_image(image, mode='tf')\n",
        "image, scale = resize_image(image)\n",
        "\n",
        "# process image\n",
        "start = time.time()\n",
        "boxes, scores, labels= model.predict_on_batch(np.expand_dims(image, axis=0))\n",
        "print(\"processing time: \", time.time() - start)\n",
        "\n",
        "# correct for image scale\n",
        "boxes /= scale\n",
        "\n",
        "# visualize detections\n",
        "for box, score, label in zip(boxes[0], scores[0], labels[0]):\n",
        "    # scores are sorted so we can break\n",
        "    if score < 0.4:\n",
        "        break\n",
        "        \n",
        "    color = label_color(label)\n",
        "    \n",
        "    b = box.astype(int)\n",
        "    draw_box(draw, b, color=color)\n",
        "    #print(b,label,color)\n",
        "    caption = \"{} {:.3f}\".format(labels_to_names[label], score)\n",
        "    draw_caption(draw, b, caption)\n",
        "    \n",
        "#draw_box(draw, [61,123,151,343], color=[255,0,0]) \n",
        "plt.figure(figsize=(15, 15))\n",
        "plt.axis('off')\n",
        "plt.imshow(draw)\n",
        "plt.show()"
      ],
      "execution_count": null,
      "outputs": []
    }
  ]
}